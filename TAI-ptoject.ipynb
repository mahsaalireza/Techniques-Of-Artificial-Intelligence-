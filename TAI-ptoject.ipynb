{
 "cells": [
  {
   "cell_type": "markdown",
   "id": "5257dd90",
   "metadata": {},
   "source": [
    "# TAI - Final project \n",
    "### Option 2 : Implementing two agorithms on one dataset"
   ]
  },
  {
   "cell_type": "markdown",
   "id": "d087a8fa",
   "metadata": {},
   "source": [
    "student name : Mahsa Alirezaee\n",
    "\n",
    "student number : 0574173"
   ]
  },
  {
   "cell_type": "markdown",
   "id": "0b900668",
   "metadata": {},
   "source": [
    "### Introduction"
   ]
  },
  {
   "cell_type": "markdown",
   "id": "bc94c247",
   "metadata": {},
   "source": [
    "Machine learning algorithms are widely used in different aspects of human life. In the final project of \"Techniques of AI\" course, I trained two ML models, using two classification algorithms,KNN and SVM, to solve a classification problem. The problem is to decide if the salary of an employee might be less or more than 50k based on some features such as age, education, sex, race,... . In this report I will explain the knowledge and code of each cell individually."
   ]
  },
  {
   "cell_type": "markdown",
   "id": "6e98a15e",
   "metadata": {},
   "source": [
    "### data and methods"
   ]
  },
  {
   "cell_type": "markdown",
   "id": "9c20c88e",
   "metadata": {},
   "source": [
    "* The dataset I used in this project, is provided from 'Kaggle' website named 'salary'. \n",
    "\n",
    "* I splitted the entire data set into train and test set of the ratio of 0.2 for test, and splitted the test set into validation and test sets with the ratio of 50% .\n",
    "\n",
    "* The algorithms used are KNN(K-nearest neighbors) and SVM(support vector classifier/machine).\n",
    "\n",
    "* I used 2 different validation techniques- k-fold cross validation and grid searcg cv for evaluating the model performance.\n"
   ]
  },
  {
   "cell_type": "markdown",
   "id": "f220efc1",
   "metadata": {},
   "source": [
    "# Importing libraries and preprocessing the dataset"
   ]
  },
  {
   "cell_type": "code",
   "execution_count": 1,
   "id": "078025d1",
   "metadata": {},
   "outputs": [],
   "source": [
    "#importing libraries\n",
    "import pandas as pd\n",
    "import numpy as np\n",
    "from sklearn.preprocessing import LabelEncoder\n",
    "from sklearn.metrics import confusion_matrix\n",
    "from sklearn.metrics import classification_report\n",
    "import matplotlib.pyplot as plt\n",
    "from sklearn.model_selection import train_test_split\n",
    "from sklearn.neighbors import KNeighborsClassifier\n",
    "import seaborn as sn\n",
    "from sklearn.model_selection import cross_val_score,GridSearchCV\n",
    "from sklearn.preprocessing import StandardScaler\n",
    "from sklearn.svm import SVC"
   ]
  },
  {
   "cell_type": "code",
   "execution_count": 2,
   "id": "1b67620c",
   "metadata": {
    "scrolled": true
   },
   "outputs": [
    {
     "data": {
      "text/html": [
       "<div>\n",
       "<style scoped>\n",
       "    .dataframe tbody tr th:only-of-type {\n",
       "        vertical-align: middle;\n",
       "    }\n",
       "\n",
       "    .dataframe tbody tr th {\n",
       "        vertical-align: top;\n",
       "    }\n",
       "\n",
       "    .dataframe thead th {\n",
       "        text-align: right;\n",
       "    }\n",
       "</style>\n",
       "<table border=\"1\" class=\"dataframe\">\n",
       "  <thead>\n",
       "    <tr style=\"text-align: right;\">\n",
       "      <th></th>\n",
       "      <th>age</th>\n",
       "      <th>workclass</th>\n",
       "      <th>fnlwgt</th>\n",
       "      <th>education</th>\n",
       "      <th>education-num</th>\n",
       "      <th>marital-status</th>\n",
       "      <th>occupation</th>\n",
       "      <th>relationship</th>\n",
       "      <th>race</th>\n",
       "      <th>sex</th>\n",
       "      <th>capital-gain</th>\n",
       "      <th>capital-loss</th>\n",
       "      <th>hours-per-week</th>\n",
       "      <th>native-country</th>\n",
       "      <th>salary</th>\n",
       "    </tr>\n",
       "  </thead>\n",
       "  <tbody>\n",
       "    <tr>\n",
       "      <th>0</th>\n",
       "      <td>39</td>\n",
       "      <td>State-gov</td>\n",
       "      <td>77516</td>\n",
       "      <td>Bachelors</td>\n",
       "      <td>13</td>\n",
       "      <td>Never-married</td>\n",
       "      <td>Adm-clerical</td>\n",
       "      <td>Not-in-family</td>\n",
       "      <td>White</td>\n",
       "      <td>Male</td>\n",
       "      <td>2174</td>\n",
       "      <td>0</td>\n",
       "      <td>40</td>\n",
       "      <td>United-States</td>\n",
       "      <td>&lt;=50K</td>\n",
       "    </tr>\n",
       "    <tr>\n",
       "      <th>1</th>\n",
       "      <td>50</td>\n",
       "      <td>Self-emp-not-inc</td>\n",
       "      <td>83311</td>\n",
       "      <td>Bachelors</td>\n",
       "      <td>13</td>\n",
       "      <td>Married-civ-spouse</td>\n",
       "      <td>Exec-managerial</td>\n",
       "      <td>Husband</td>\n",
       "      <td>White</td>\n",
       "      <td>Male</td>\n",
       "      <td>0</td>\n",
       "      <td>0</td>\n",
       "      <td>13</td>\n",
       "      <td>United-States</td>\n",
       "      <td>&lt;=50K</td>\n",
       "    </tr>\n",
       "    <tr>\n",
       "      <th>2</th>\n",
       "      <td>38</td>\n",
       "      <td>Private</td>\n",
       "      <td>215646</td>\n",
       "      <td>HS-grad</td>\n",
       "      <td>9</td>\n",
       "      <td>Divorced</td>\n",
       "      <td>Handlers-cleaners</td>\n",
       "      <td>Not-in-family</td>\n",
       "      <td>White</td>\n",
       "      <td>Male</td>\n",
       "      <td>0</td>\n",
       "      <td>0</td>\n",
       "      <td>40</td>\n",
       "      <td>United-States</td>\n",
       "      <td>&lt;=50K</td>\n",
       "    </tr>\n",
       "    <tr>\n",
       "      <th>3</th>\n",
       "      <td>53</td>\n",
       "      <td>Private</td>\n",
       "      <td>234721</td>\n",
       "      <td>11th</td>\n",
       "      <td>7</td>\n",
       "      <td>Married-civ-spouse</td>\n",
       "      <td>Handlers-cleaners</td>\n",
       "      <td>Husband</td>\n",
       "      <td>Black</td>\n",
       "      <td>Male</td>\n",
       "      <td>0</td>\n",
       "      <td>0</td>\n",
       "      <td>40</td>\n",
       "      <td>United-States</td>\n",
       "      <td>&lt;=50K</td>\n",
       "    </tr>\n",
       "    <tr>\n",
       "      <th>4</th>\n",
       "      <td>28</td>\n",
       "      <td>Private</td>\n",
       "      <td>338409</td>\n",
       "      <td>Bachelors</td>\n",
       "      <td>13</td>\n",
       "      <td>Married-civ-spouse</td>\n",
       "      <td>Prof-specialty</td>\n",
       "      <td>Wife</td>\n",
       "      <td>Black</td>\n",
       "      <td>Female</td>\n",
       "      <td>0</td>\n",
       "      <td>0</td>\n",
       "      <td>40</td>\n",
       "      <td>Cuba</td>\n",
       "      <td>&lt;=50K</td>\n",
       "    </tr>\n",
       "    <tr>\n",
       "      <th>...</th>\n",
       "      <td>...</td>\n",
       "      <td>...</td>\n",
       "      <td>...</td>\n",
       "      <td>...</td>\n",
       "      <td>...</td>\n",
       "      <td>...</td>\n",
       "      <td>...</td>\n",
       "      <td>...</td>\n",
       "      <td>...</td>\n",
       "      <td>...</td>\n",
       "      <td>...</td>\n",
       "      <td>...</td>\n",
       "      <td>...</td>\n",
       "      <td>...</td>\n",
       "      <td>...</td>\n",
       "    </tr>\n",
       "    <tr>\n",
       "      <th>32556</th>\n",
       "      <td>27</td>\n",
       "      <td>Private</td>\n",
       "      <td>257302</td>\n",
       "      <td>Assoc-acdm</td>\n",
       "      <td>12</td>\n",
       "      <td>Married-civ-spouse</td>\n",
       "      <td>Tech-support</td>\n",
       "      <td>Wife</td>\n",
       "      <td>White</td>\n",
       "      <td>Female</td>\n",
       "      <td>0</td>\n",
       "      <td>0</td>\n",
       "      <td>38</td>\n",
       "      <td>United-States</td>\n",
       "      <td>&lt;=50K</td>\n",
       "    </tr>\n",
       "    <tr>\n",
       "      <th>32557</th>\n",
       "      <td>40</td>\n",
       "      <td>Private</td>\n",
       "      <td>154374</td>\n",
       "      <td>HS-grad</td>\n",
       "      <td>9</td>\n",
       "      <td>Married-civ-spouse</td>\n",
       "      <td>Machine-op-inspct</td>\n",
       "      <td>Husband</td>\n",
       "      <td>White</td>\n",
       "      <td>Male</td>\n",
       "      <td>0</td>\n",
       "      <td>0</td>\n",
       "      <td>40</td>\n",
       "      <td>United-States</td>\n",
       "      <td>&gt;50K</td>\n",
       "    </tr>\n",
       "    <tr>\n",
       "      <th>32558</th>\n",
       "      <td>58</td>\n",
       "      <td>Private</td>\n",
       "      <td>151910</td>\n",
       "      <td>HS-grad</td>\n",
       "      <td>9</td>\n",
       "      <td>Widowed</td>\n",
       "      <td>Adm-clerical</td>\n",
       "      <td>Unmarried</td>\n",
       "      <td>White</td>\n",
       "      <td>Female</td>\n",
       "      <td>0</td>\n",
       "      <td>0</td>\n",
       "      <td>40</td>\n",
       "      <td>United-States</td>\n",
       "      <td>&lt;=50K</td>\n",
       "    </tr>\n",
       "    <tr>\n",
       "      <th>32559</th>\n",
       "      <td>22</td>\n",
       "      <td>Private</td>\n",
       "      <td>201490</td>\n",
       "      <td>HS-grad</td>\n",
       "      <td>9</td>\n",
       "      <td>Never-married</td>\n",
       "      <td>Adm-clerical</td>\n",
       "      <td>Own-child</td>\n",
       "      <td>White</td>\n",
       "      <td>Male</td>\n",
       "      <td>0</td>\n",
       "      <td>0</td>\n",
       "      <td>20</td>\n",
       "      <td>United-States</td>\n",
       "      <td>&lt;=50K</td>\n",
       "    </tr>\n",
       "    <tr>\n",
       "      <th>32560</th>\n",
       "      <td>52</td>\n",
       "      <td>Self-emp-inc</td>\n",
       "      <td>287927</td>\n",
       "      <td>HS-grad</td>\n",
       "      <td>9</td>\n",
       "      <td>Married-civ-spouse</td>\n",
       "      <td>Exec-managerial</td>\n",
       "      <td>Wife</td>\n",
       "      <td>White</td>\n",
       "      <td>Female</td>\n",
       "      <td>15024</td>\n",
       "      <td>0</td>\n",
       "      <td>40</td>\n",
       "      <td>United-States</td>\n",
       "      <td>&gt;50K</td>\n",
       "    </tr>\n",
       "  </tbody>\n",
       "</table>\n",
       "<p>32561 rows × 15 columns</p>\n",
       "</div>"
      ],
      "text/plain": [
       "       age          workclass  fnlwgt    education  education-num  \\\n",
       "0       39          State-gov   77516    Bachelors             13   \n",
       "1       50   Self-emp-not-inc   83311    Bachelors             13   \n",
       "2       38            Private  215646      HS-grad              9   \n",
       "3       53            Private  234721         11th              7   \n",
       "4       28            Private  338409    Bachelors             13   \n",
       "...    ...                ...     ...          ...            ...   \n",
       "32556   27            Private  257302   Assoc-acdm             12   \n",
       "32557   40            Private  154374      HS-grad              9   \n",
       "32558   58            Private  151910      HS-grad              9   \n",
       "32559   22            Private  201490      HS-grad              9   \n",
       "32560   52       Self-emp-inc  287927      HS-grad              9   \n",
       "\n",
       "            marital-status          occupation    relationship    race  \\\n",
       "0            Never-married        Adm-clerical   Not-in-family   White   \n",
       "1       Married-civ-spouse     Exec-managerial         Husband   White   \n",
       "2                 Divorced   Handlers-cleaners   Not-in-family   White   \n",
       "3       Married-civ-spouse   Handlers-cleaners         Husband   Black   \n",
       "4       Married-civ-spouse      Prof-specialty            Wife   Black   \n",
       "...                    ...                 ...             ...     ...   \n",
       "32556   Married-civ-spouse        Tech-support            Wife   White   \n",
       "32557   Married-civ-spouse   Machine-op-inspct         Husband   White   \n",
       "32558              Widowed        Adm-clerical       Unmarried   White   \n",
       "32559        Never-married        Adm-clerical       Own-child   White   \n",
       "32560   Married-civ-spouse     Exec-managerial            Wife   White   \n",
       "\n",
       "           sex  capital-gain  capital-loss  hours-per-week  native-country  \\\n",
       "0         Male          2174             0              40   United-States   \n",
       "1         Male             0             0              13   United-States   \n",
       "2         Male             0             0              40   United-States   \n",
       "3         Male             0             0              40   United-States   \n",
       "4       Female             0             0              40            Cuba   \n",
       "...        ...           ...           ...             ...             ...   \n",
       "32556   Female             0             0              38   United-States   \n",
       "32557     Male             0             0              40   United-States   \n",
       "32558   Female             0             0              40   United-States   \n",
       "32559     Male             0             0              20   United-States   \n",
       "32560   Female         15024             0              40   United-States   \n",
       "\n",
       "       salary  \n",
       "0       <=50K  \n",
       "1       <=50K  \n",
       "2       <=50K  \n",
       "3       <=50K  \n",
       "4       <=50K  \n",
       "...       ...  \n",
       "32556   <=50K  \n",
       "32557    >50K  \n",
       "32558   <=50K  \n",
       "32559   <=50K  \n",
       "32560    >50K  \n",
       "\n",
       "[32561 rows x 15 columns]"
      ]
     },
     "execution_count": 2,
     "metadata": {},
     "output_type": "execute_result"
    }
   ],
   "source": [
    "#Reading the dataset\n",
    "df = pd.read_csv('salary.csv')\n",
    "df"
   ]
  },
  {
   "cell_type": "code",
   "execution_count": 3,
   "id": "2060eeee",
   "metadata": {},
   "outputs": [],
   "source": [
    "#Eliminating some features because of the very high scales between each element that might cause bias and because of lack of information about them.\n",
    "df.drop(columns=['fnlwgt','education-num','capital-gain','capital-loss','relationship','workclass'], axis =1, inplace =True)\n"
   ]
  },
  {
   "cell_type": "code",
   "execution_count": 4,
   "id": "4740d0e6",
   "metadata": {
    "scrolled": false
   },
   "outputs": [
    {
     "data": {
      "text/html": [
       "<div>\n",
       "<style scoped>\n",
       "    .dataframe tbody tr th:only-of-type {\n",
       "        vertical-align: middle;\n",
       "    }\n",
       "\n",
       "    .dataframe tbody tr th {\n",
       "        vertical-align: top;\n",
       "    }\n",
       "\n",
       "    .dataframe thead th {\n",
       "        text-align: right;\n",
       "    }\n",
       "</style>\n",
       "<table border=\"1\" class=\"dataframe\">\n",
       "  <thead>\n",
       "    <tr style=\"text-align: right;\">\n",
       "      <th></th>\n",
       "      <th>age</th>\n",
       "      <th>education</th>\n",
       "      <th>marital-status</th>\n",
       "      <th>occupation</th>\n",
       "      <th>race</th>\n",
       "      <th>sex</th>\n",
       "      <th>hours-per-week</th>\n",
       "      <th>native-country</th>\n",
       "      <th>salary</th>\n",
       "    </tr>\n",
       "  </thead>\n",
       "  <tbody>\n",
       "    <tr>\n",
       "      <th>0</th>\n",
       "      <td>39</td>\n",
       "      <td>Bachelors</td>\n",
       "      <td>Never-married</td>\n",
       "      <td>Adm-clerical</td>\n",
       "      <td>White</td>\n",
       "      <td>Male</td>\n",
       "      <td>40</td>\n",
       "      <td>United-States</td>\n",
       "      <td>&lt;=50K</td>\n",
       "    </tr>\n",
       "    <tr>\n",
       "      <th>1</th>\n",
       "      <td>50</td>\n",
       "      <td>Bachelors</td>\n",
       "      <td>Married-civ-spouse</td>\n",
       "      <td>Exec-managerial</td>\n",
       "      <td>White</td>\n",
       "      <td>Male</td>\n",
       "      <td>13</td>\n",
       "      <td>United-States</td>\n",
       "      <td>&lt;=50K</td>\n",
       "    </tr>\n",
       "    <tr>\n",
       "      <th>2</th>\n",
       "      <td>38</td>\n",
       "      <td>HS-grad</td>\n",
       "      <td>Divorced</td>\n",
       "      <td>Handlers-cleaners</td>\n",
       "      <td>White</td>\n",
       "      <td>Male</td>\n",
       "      <td>40</td>\n",
       "      <td>United-States</td>\n",
       "      <td>&lt;=50K</td>\n",
       "    </tr>\n",
       "    <tr>\n",
       "      <th>3</th>\n",
       "      <td>53</td>\n",
       "      <td>11th</td>\n",
       "      <td>Married-civ-spouse</td>\n",
       "      <td>Handlers-cleaners</td>\n",
       "      <td>Black</td>\n",
       "      <td>Male</td>\n",
       "      <td>40</td>\n",
       "      <td>United-States</td>\n",
       "      <td>&lt;=50K</td>\n",
       "    </tr>\n",
       "    <tr>\n",
       "      <th>4</th>\n",
       "      <td>28</td>\n",
       "      <td>Bachelors</td>\n",
       "      <td>Married-civ-spouse</td>\n",
       "      <td>Prof-specialty</td>\n",
       "      <td>Black</td>\n",
       "      <td>Female</td>\n",
       "      <td>40</td>\n",
       "      <td>Cuba</td>\n",
       "      <td>&lt;=50K</td>\n",
       "    </tr>\n",
       "    <tr>\n",
       "      <th>...</th>\n",
       "      <td>...</td>\n",
       "      <td>...</td>\n",
       "      <td>...</td>\n",
       "      <td>...</td>\n",
       "      <td>...</td>\n",
       "      <td>...</td>\n",
       "      <td>...</td>\n",
       "      <td>...</td>\n",
       "      <td>...</td>\n",
       "    </tr>\n",
       "    <tr>\n",
       "      <th>32556</th>\n",
       "      <td>27</td>\n",
       "      <td>Assoc-acdm</td>\n",
       "      <td>Married-civ-spouse</td>\n",
       "      <td>Tech-support</td>\n",
       "      <td>White</td>\n",
       "      <td>Female</td>\n",
       "      <td>38</td>\n",
       "      <td>United-States</td>\n",
       "      <td>&lt;=50K</td>\n",
       "    </tr>\n",
       "    <tr>\n",
       "      <th>32557</th>\n",
       "      <td>40</td>\n",
       "      <td>HS-grad</td>\n",
       "      <td>Married-civ-spouse</td>\n",
       "      <td>Machine-op-inspct</td>\n",
       "      <td>White</td>\n",
       "      <td>Male</td>\n",
       "      <td>40</td>\n",
       "      <td>United-States</td>\n",
       "      <td>&gt;50K</td>\n",
       "    </tr>\n",
       "    <tr>\n",
       "      <th>32558</th>\n",
       "      <td>58</td>\n",
       "      <td>HS-grad</td>\n",
       "      <td>Widowed</td>\n",
       "      <td>Adm-clerical</td>\n",
       "      <td>White</td>\n",
       "      <td>Female</td>\n",
       "      <td>40</td>\n",
       "      <td>United-States</td>\n",
       "      <td>&lt;=50K</td>\n",
       "    </tr>\n",
       "    <tr>\n",
       "      <th>32559</th>\n",
       "      <td>22</td>\n",
       "      <td>HS-grad</td>\n",
       "      <td>Never-married</td>\n",
       "      <td>Adm-clerical</td>\n",
       "      <td>White</td>\n",
       "      <td>Male</td>\n",
       "      <td>20</td>\n",
       "      <td>United-States</td>\n",
       "      <td>&lt;=50K</td>\n",
       "    </tr>\n",
       "    <tr>\n",
       "      <th>32560</th>\n",
       "      <td>52</td>\n",
       "      <td>HS-grad</td>\n",
       "      <td>Married-civ-spouse</td>\n",
       "      <td>Exec-managerial</td>\n",
       "      <td>White</td>\n",
       "      <td>Female</td>\n",
       "      <td>40</td>\n",
       "      <td>United-States</td>\n",
       "      <td>&gt;50K</td>\n",
       "    </tr>\n",
       "  </tbody>\n",
       "</table>\n",
       "<p>32561 rows × 9 columns</p>\n",
       "</div>"
      ],
      "text/plain": [
       "       age    education       marital-status          occupation    race  \\\n",
       "0       39    Bachelors        Never-married        Adm-clerical   White   \n",
       "1       50    Bachelors   Married-civ-spouse     Exec-managerial   White   \n",
       "2       38      HS-grad             Divorced   Handlers-cleaners   White   \n",
       "3       53         11th   Married-civ-spouse   Handlers-cleaners   Black   \n",
       "4       28    Bachelors   Married-civ-spouse      Prof-specialty   Black   \n",
       "...    ...          ...                  ...                 ...     ...   \n",
       "32556   27   Assoc-acdm   Married-civ-spouse        Tech-support   White   \n",
       "32557   40      HS-grad   Married-civ-spouse   Machine-op-inspct   White   \n",
       "32558   58      HS-grad              Widowed        Adm-clerical   White   \n",
       "32559   22      HS-grad        Never-married        Adm-clerical   White   \n",
       "32560   52      HS-grad   Married-civ-spouse     Exec-managerial   White   \n",
       "\n",
       "           sex  hours-per-week  native-country  salary  \n",
       "0         Male              40   United-States   <=50K  \n",
       "1         Male              13   United-States   <=50K  \n",
       "2         Male              40   United-States   <=50K  \n",
       "3         Male              40   United-States   <=50K  \n",
       "4       Female              40            Cuba   <=50K  \n",
       "...        ...             ...             ...     ...  \n",
       "32556   Female              38   United-States   <=50K  \n",
       "32557     Male              40   United-States    >50K  \n",
       "32558   Female              40   United-States   <=50K  \n",
       "32559     Male              20   United-States   <=50K  \n",
       "32560   Female              40   United-States    >50K  \n",
       "\n",
       "[32561 rows x 9 columns]"
      ]
     },
     "execution_count": 4,
     "metadata": {},
     "output_type": "execute_result"
    }
   ],
   "source": [
    " df"
   ]
  },
  {
   "cell_type": "code",
   "execution_count": 5,
   "id": "ed27e05d",
   "metadata": {},
   "outputs": [],
   "source": [
    "#Encoding classes to numeric values in the dataframe\n",
    "for column in df.columns:\n",
    "    if (column!= 'age') & (column != 'hours-per-week'):\n",
    "        df[column] , _ = pd.factorize(df[column])\n",
    "        "
   ]
  },
  {
   "cell_type": "code",
   "execution_count": 6,
   "id": "2e1c4964",
   "metadata": {
    "scrolled": true
   },
   "outputs": [
    {
     "data": {
      "text/html": [
       "<div>\n",
       "<style scoped>\n",
       "    .dataframe tbody tr th:only-of-type {\n",
       "        vertical-align: middle;\n",
       "    }\n",
       "\n",
       "    .dataframe tbody tr th {\n",
       "        vertical-align: top;\n",
       "    }\n",
       "\n",
       "    .dataframe thead th {\n",
       "        text-align: right;\n",
       "    }\n",
       "</style>\n",
       "<table border=\"1\" class=\"dataframe\">\n",
       "  <thead>\n",
       "    <tr style=\"text-align: right;\">\n",
       "      <th></th>\n",
       "      <th>age</th>\n",
       "      <th>education</th>\n",
       "      <th>marital-status</th>\n",
       "      <th>occupation</th>\n",
       "      <th>race</th>\n",
       "      <th>sex</th>\n",
       "      <th>hours-per-week</th>\n",
       "      <th>native-country</th>\n",
       "      <th>salary</th>\n",
       "    </tr>\n",
       "  </thead>\n",
       "  <tbody>\n",
       "    <tr>\n",
       "      <th>0</th>\n",
       "      <td>39</td>\n",
       "      <td>0</td>\n",
       "      <td>0</td>\n",
       "      <td>0</td>\n",
       "      <td>0</td>\n",
       "      <td>0</td>\n",
       "      <td>40</td>\n",
       "      <td>0</td>\n",
       "      <td>0</td>\n",
       "    </tr>\n",
       "    <tr>\n",
       "      <th>1</th>\n",
       "      <td>50</td>\n",
       "      <td>0</td>\n",
       "      <td>1</td>\n",
       "      <td>1</td>\n",
       "      <td>0</td>\n",
       "      <td>0</td>\n",
       "      <td>13</td>\n",
       "      <td>0</td>\n",
       "      <td>0</td>\n",
       "    </tr>\n",
       "    <tr>\n",
       "      <th>2</th>\n",
       "      <td>38</td>\n",
       "      <td>1</td>\n",
       "      <td>2</td>\n",
       "      <td>2</td>\n",
       "      <td>0</td>\n",
       "      <td>0</td>\n",
       "      <td>40</td>\n",
       "      <td>0</td>\n",
       "      <td>0</td>\n",
       "    </tr>\n",
       "    <tr>\n",
       "      <th>3</th>\n",
       "      <td>53</td>\n",
       "      <td>2</td>\n",
       "      <td>1</td>\n",
       "      <td>2</td>\n",
       "      <td>1</td>\n",
       "      <td>0</td>\n",
       "      <td>40</td>\n",
       "      <td>0</td>\n",
       "      <td>0</td>\n",
       "    </tr>\n",
       "    <tr>\n",
       "      <th>4</th>\n",
       "      <td>28</td>\n",
       "      <td>0</td>\n",
       "      <td>1</td>\n",
       "      <td>3</td>\n",
       "      <td>1</td>\n",
       "      <td>1</td>\n",
       "      <td>40</td>\n",
       "      <td>1</td>\n",
       "      <td>0</td>\n",
       "    </tr>\n",
       "    <tr>\n",
       "      <th>...</th>\n",
       "      <td>...</td>\n",
       "      <td>...</td>\n",
       "      <td>...</td>\n",
       "      <td>...</td>\n",
       "      <td>...</td>\n",
       "      <td>...</td>\n",
       "      <td>...</td>\n",
       "      <td>...</td>\n",
       "      <td>...</td>\n",
       "    </tr>\n",
       "    <tr>\n",
       "      <th>32556</th>\n",
       "      <td>27</td>\n",
       "      <td>6</td>\n",
       "      <td>1</td>\n",
       "      <td>10</td>\n",
       "      <td>0</td>\n",
       "      <td>1</td>\n",
       "      <td>38</td>\n",
       "      <td>0</td>\n",
       "      <td>0</td>\n",
       "    </tr>\n",
       "    <tr>\n",
       "      <th>32557</th>\n",
       "      <td>40</td>\n",
       "      <td>1</td>\n",
       "      <td>1</td>\n",
       "      <td>9</td>\n",
       "      <td>0</td>\n",
       "      <td>0</td>\n",
       "      <td>40</td>\n",
       "      <td>0</td>\n",
       "      <td>1</td>\n",
       "    </tr>\n",
       "    <tr>\n",
       "      <th>32558</th>\n",
       "      <td>58</td>\n",
       "      <td>1</td>\n",
       "      <td>6</td>\n",
       "      <td>0</td>\n",
       "      <td>0</td>\n",
       "      <td>1</td>\n",
       "      <td>40</td>\n",
       "      <td>0</td>\n",
       "      <td>0</td>\n",
       "    </tr>\n",
       "    <tr>\n",
       "      <th>32559</th>\n",
       "      <td>22</td>\n",
       "      <td>1</td>\n",
       "      <td>0</td>\n",
       "      <td>0</td>\n",
       "      <td>0</td>\n",
       "      <td>0</td>\n",
       "      <td>20</td>\n",
       "      <td>0</td>\n",
       "      <td>0</td>\n",
       "    </tr>\n",
       "    <tr>\n",
       "      <th>32560</th>\n",
       "      <td>52</td>\n",
       "      <td>1</td>\n",
       "      <td>1</td>\n",
       "      <td>1</td>\n",
       "      <td>0</td>\n",
       "      <td>1</td>\n",
       "      <td>40</td>\n",
       "      <td>0</td>\n",
       "      <td>1</td>\n",
       "    </tr>\n",
       "  </tbody>\n",
       "</table>\n",
       "<p>32561 rows × 9 columns</p>\n",
       "</div>"
      ],
      "text/plain": [
       "       age  education  marital-status  occupation  race  sex  hours-per-week  \\\n",
       "0       39          0               0           0     0    0              40   \n",
       "1       50          0               1           1     0    0              13   \n",
       "2       38          1               2           2     0    0              40   \n",
       "3       53          2               1           2     1    0              40   \n",
       "4       28          0               1           3     1    1              40   \n",
       "...    ...        ...             ...         ...   ...  ...             ...   \n",
       "32556   27          6               1          10     0    1              38   \n",
       "32557   40          1               1           9     0    0              40   \n",
       "32558   58          1               6           0     0    1              40   \n",
       "32559   22          1               0           0     0    0              20   \n",
       "32560   52          1               1           1     0    1              40   \n",
       "\n",
       "       native-country  salary  \n",
       "0                   0       0  \n",
       "1                   0       0  \n",
       "2                   0       0  \n",
       "3                   0       0  \n",
       "4                   1       0  \n",
       "...               ...     ...  \n",
       "32556               0       0  \n",
       "32557               0       1  \n",
       "32558               0       0  \n",
       "32559               0       0  \n",
       "32560               0       1  \n",
       "\n",
       "[32561 rows x 9 columns]"
      ]
     },
     "execution_count": 6,
     "metadata": {},
     "output_type": "execute_result"
    }
   ],
   "source": [
    "df"
   ]
  },
  {
   "cell_type": "code",
   "execution_count": 7,
   "id": "4d615520",
   "metadata": {},
   "outputs": [],
   "source": [
    "#Creating marix of features and array of target values\n",
    "X = df.iloc[:,:-1].values\n",
    "y = df.iloc[:,-1].values"
   ]
  },
  {
   "cell_type": "code",
   "execution_count": 8,
   "id": "35c984ae",
   "metadata": {},
   "outputs": [],
   "source": [
    "#Encoding the target function and convert it to an array\n",
    "le = LabelEncoder()\n",
    "y = le.fit_transform(y)\n"
   ]
  },
  {
   "cell_type": "code",
   "execution_count": 9,
   "id": "b0da26b5",
   "metadata": {
    "scrolled": true
   },
   "outputs": [],
   "source": [
    "#creating 2 datasets based on the target classes\n",
    "df0 = df[df.salary==0]\n",
    "df1 = df[df.salary==1]"
   ]
  },
  {
   "cell_type": "code",
   "execution_count": 10,
   "id": "502a6575",
   "metadata": {},
   "outputs": [
    {
     "data": {
      "image/png": "[encoded data removed]",
      "text/plain": [
       "<Figure size 432x288 with 1 Axes>"
      ]
     },
     "metadata": {
      "needs_background": "light"
     },
     "output_type": "display_data"
    }
   ],
   "source": [
    "#visualing distribution of datapoints based on one pair of dimensions\n",
    "plt.scatter(df0['education'],df0['hours-per-week'],color='red',marker='+')\n",
    "plt.scatter(df1['education'],df1['hours-per-week'],color='blue',marker='.')\n",
    "plt.xlabel('education')\n",
    "plt.ylabel('hours-per-week')\n",
    "plt.show()"
   ]
  },
  {
   "cell_type": "code",
   "execution_count": 11,
   "id": "905e09e7",
   "metadata": {
    "scrolled": true
   },
   "outputs": [
    {
     "data": {
      "image/png": "[encoded data removed]",
      "text/plain": [
       "<Figure size 432x288 with 1 Axes>"
      ]
     },
     "metadata": {
      "needs_background": "light"
     },
     "output_type": "display_data"
    }
   ],
   "source": [
    "#visualing distribution of datapoints based on another pair of dimensions\n",
    "plt.scatter(df0['sex'],df0['occupation'],color='green',marker='+')\n",
    "plt.scatter(df1['sex'],df1['occupation'],color='purple',marker='.')\n",
    "plt.xlabel('sex')\n",
    "plt.ylabel('occupation')\n",
    "plt.show()"
   ]
  },
  {
   "cell_type": "code",
   "execution_count": 12,
   "id": "b73a28b9",
   "metadata": {},
   "outputs": [],
   "source": [
    "#Spliting the dataset to train,validation and test sets\n",
    "X_train,X_test,y_train,y_test = train_test_split(X,y,test_size = 0.2,random_state=42)\n",
    "X_test,X_valid,y_test,y_valid = train_test_split(X_test,y_test,test_size=0.5,random_state=42)"
   ]
  },
  {
   "cell_type": "code",
   "execution_count": 13,
   "id": "30d71612",
   "metadata": {},
   "outputs": [
    {
     "data": {
      "text/plain": [
       "(26048, 8)"
      ]
     },
     "execution_count": 13,
     "metadata": {},
     "output_type": "execute_result"
    }
   ],
   "source": [
    "X_train.shape"
   ]
  },
  {
   "cell_type": "code",
   "execution_count": 14,
   "id": "c0c36073",
   "metadata": {},
   "outputs": [
    {
     "data": {
      "text/plain": [
       "(3257, 8)"
      ]
     },
     "execution_count": 14,
     "metadata": {},
     "output_type": "execute_result"
    }
   ],
   "source": [
    "X_valid.shape"
   ]
  },
  {
   "cell_type": "code",
   "execution_count": 15,
   "id": "58024a9b",
   "metadata": {},
   "outputs": [
    {
     "data": {
      "text/plain": [
       "(3256, 8)"
      ]
     },
     "execution_count": 15,
     "metadata": {},
     "output_type": "execute_result"
    }
   ],
   "source": [
    "X_test.shape"
   ]
  },
  {
   "cell_type": "markdown",
   "id": "851cfbc0",
   "metadata": {},
   "source": [
    "# Implementing KNN Algorithm"
   ]
  },
  {
   "cell_type": "code",
   "execution_count": 16,
   "id": "214871f5",
   "metadata": {},
   "outputs": [
    {
     "data": {
      "text/plain": [
       "KNeighborsClassifier()"
      ]
     },
     "execution_count": 16,
     "metadata": {},
     "output_type": "execute_result"
    }
   ],
   "source": [
    "#creating the KNN model\n",
    "knn = KNeighborsClassifier(n_neighbors=5,metric = 'minkowski',p=2)\n",
    "knn.fit(X_train,y_train)"
   ]
  },
  {
   "cell_type": "code",
   "execution_count": 17,
   "id": "ef10a966",
   "metadata": {},
   "outputs": [
    {
     "data": {
      "text/plain": [
       "0.7881486030089039"
      ]
     },
     "execution_count": 17,
     "metadata": {},
     "output_type": "execute_result"
    }
   ],
   "source": [
    "#model accuracy\n",
    "knn.score(X_valid,y_valid)"
   ]
  },
  {
   "cell_type": "markdown",
   "id": "7811bf74",
   "metadata": {},
   "source": [
    "# Performance evaluation metrics"
   ]
  },
  {
   "cell_type": "markdown",
   "id": "b5548e8a",
   "metadata": {},
   "source": [
    "### Confusion Matrix and Classification Report"
   ]
  },
  {
   "cell_type": "markdown",
   "id": "dcdb2bac",
   "metadata": {},
   "source": [
    "Confusion matrix and classification report are tools for a better visualisation of the result and comparison between the vector that the classification model predicted and the certain target vector that we were given.\n"
   ]
  },
  {
   "cell_type": "markdown",
   "id": "44cfec80",
   "metadata": {},
   "source": [
    "### Confusion matrix"
   ]
  },
  {
   "cell_type": "markdown",
   "id": "da35b594",
   "metadata": {},
   "source": [
    "Classification accuracy alone can be misleading if we have an unequal number of observations in each class or if we have more than two classes in the dataset. Calculating a confusion matrix can give a better idea of what the classification model is getting right and what types of errors it is making.\n",
    "\n",
    "Interpretation :\n",
    "\n",
    "True Negative: Model has given prediction No, and the real or actual value was also No.\n",
    "\n",
    "True Positive: The model has predicted yes, and the actual value was also true.\n",
    "\n",
    "False Negative: The model has predicted no, but the actual value was Yes, it is also called as Type-II error.\n",
    "\n",
    "False Positive: The model has predicted Yes, but the actual value was No. It is also called a Type-I error."
   ]
  },
  {
   "cell_type": "code",
   "execution_count": 18,
   "id": "71ae8fb4",
   "metadata": {},
   "outputs": [
    {
     "data": {
      "text/plain": [
       "array([[2140,  333],\n",
       "       [ 357,  427]])"
      ]
     },
     "execution_count": 18,
     "metadata": {},
     "output_type": "execute_result"
    }
   ],
   "source": [
    "#defining the confusion matrix\n",
    "y_pred = knn.predict(X_valid)\n",
    "matrix = confusion_matrix(y_valid,y_pred)\n",
    "matrix"
   ]
  },
  {
   "cell_type": "code",
   "execution_count": 19,
   "id": "0a486893",
   "metadata": {},
   "outputs": [
    {
     "data": {
      "text/plain": [
       "Text(42.0, 0.5, 'Truth')"
      ]
     },
     "execution_count": 19,
     "metadata": {},
     "output_type": "execute_result"
    },
    {
     "data": {
      "image/png": "[encoded data removed]",
      "text/plain": [
       "<Figure size 504x360 with 2 Axes>"
      ]
     },
     "metadata": {
      "needs_background": "light"
     },
     "output_type": "display_data"
    }
   ],
   "source": [
    "#plotting the confusion matrix\n",
    "%matplotlib inline\n",
    "plt.figure(figsize=(7,5))\n",
    "sn.heatmap(matrix,annot=True,fmt=\".1f\")\n",
    "plt.xlabel('Predicted')\n",
    "plt.ylabel('Truth')"
   ]
  },
  {
   "cell_type": "markdown",
   "id": "3b4a23ac",
   "metadata": {},
   "source": [
    "### Classification Report"
   ]
  },
  {
   "cell_type": "markdown",
   "id": "4507adb2",
   "metadata": {},
   "source": [
    "In a classification report,these metrics are shown :\n",
    "\n",
    "Precision : Precision is defined as the ratio of true positives to the sum of true and false positives.\n",
    "\n",
    "Recall : Recall is defined as the ratio of true positives to the sum of true positives and false negatives.\n",
    "\n",
    "F1 Score : The F1 is the weighted harmonic mean of precision and recall. The closer the value of the F1 score is to 1.0, the better the expected performance of the model is.\n",
    "\n",
    "Support : Support is the number of actual occurrences of the class in the dataset. It doesn’t vary between models, it just diagnoses the performance evaluation process."
   ]
  },
  {
   "cell_type": "code",
   "execution_count": 20,
   "id": "869d9767",
   "metadata": {},
   "outputs": [
    {
     "name": "stdout",
     "output_type": "stream",
     "text": [
      "              precision    recall  f1-score   support\n",
      "\n",
      "           0       0.86      0.87      0.86      2473\n",
      "           1       0.56      0.54      0.55       784\n",
      "\n",
      "    accuracy                           0.79      3257\n",
      "   macro avg       0.71      0.70      0.71      3257\n",
      "weighted avg       0.79      0.79      0.79      3257\n",
      "\n"
     ]
    }
   ],
   "source": [
    "#Printing the classification report\n",
    "print(classification_report(y_valid,y_pred))"
   ]
  },
  {
   "cell_type": "code",
   "execution_count": 21,
   "id": "2c0f5204",
   "metadata": {},
   "outputs": [
    {
     "name": "stdout",
     "output_type": "stream",
     "text": [
      "0.7752995833959861\n"
     ]
    }
   ],
   "source": [
    "#using k-fold cross validation to decide on K parameter of the model\n",
    "scores = cross_val_score(knn,X_train,y_train,cv = 10,scoring = 'accuracy')\n",
    "print(scores.mean())"
   ]
  },
  {
   "cell_type": "markdown",
   "id": "81f4c2b2",
   "metadata": {},
   "source": [
    "## KNN model validation"
   ]
  },
  {
   "cell_type": "markdown",
   "id": "9ff92a2c",
   "metadata": {},
   "source": [
    "### Deciding on number of k in our model using k-fold cross validation"
   ]
  },
  {
   "cell_type": "code",
   "execution_count": 22,
   "id": "3bb9589d",
   "metadata": {},
   "outputs": [],
   "source": [
    "k_scores = []\n",
    "for k in range(1,41):\n",
    "    knn = KNeighborsClassifier(n_neighbors=k,metric = 'minkowski',p=2)\n",
    "    scores = cross_val_score(knn,X_train,y_train,cv = 5,scoring = 'accuracy')\n",
    "    k_scores.append(scores.mean())"
   ]
  },
  {
   "cell_type": "code",
   "execution_count": 23,
   "id": "4c14cffe",
   "metadata": {},
   "outputs": [
    {
     "data": {
      "text/plain": [
       "[0.7460459510318957,\n",
       " 0.7756066220836593,\n",
       " 0.7617092077089372,\n",
       " 0.7810196363963302,\n",
       " 0.7739557292136856,\n",
       " 0.7817490766939988,\n",
       " 0.7778333454315929,\n",
       " 0.7834382393679329,\n",
       " 0.7783708250411125,\n",
       " 0.7840907789522712,\n",
       " 0.7806357739760175,\n",
       " 0.7860872202216083,\n",
       " 0.7829390148233771,\n",
       " 0.7864326875564919,\n",
       " 0.7857416276052559,\n",
       " 0.7862407121293465,\n",
       " 0.7847050782106416,\n",
       " 0.7853193406215213,\n",
       " 0.786202294935423,\n",
       " 0.7869701745355098,\n",
       " 0.7851274831063467,\n",
       " 0.7850121946770852,\n",
       " 0.784167561753631,\n",
       " 0.7850122020465834,\n",
       " 0.7844363052431401,\n",
       " 0.7843595003332856,\n",
       " 0.7840523838668421,\n",
       " 0.7834765681278786,\n",
       " 0.7833231056981329,\n",
       " 0.7827087695922715,\n",
       " 0.7823250840399147,\n",
       " 0.782900840822893,\n",
       " 0.781941044751646,\n",
       " 0.7834767597348307,\n",
       " 0.7814035430336318,\n",
       " 0.7824017857767949,\n",
       " 0.7820178128140098,\n",
       " 0.7828240727605292,\n",
       " 0.7816722423061518,\n",
       " 0.7817491946059695]"
      ]
     },
     "execution_count": 23,
     "metadata": {},
     "output_type": "execute_result"
    }
   ],
   "source": [
    "k_scores"
   ]
  },
  {
   "cell_type": "code",
   "execution_count": 24,
   "id": "3a561f77",
   "metadata": {},
   "outputs": [
    {
     "data": {
      "image/png": "[encoded data removed]",
      "text/plain": [
       "<Figure size 432x288 with 1 Axes>"
      ]
     },
     "metadata": {
      "needs_background": "light"
     },
     "output_type": "display_data"
    }
   ],
   "source": [
    "scores_plot = sn.lineplot(x = range(1,41),y = k_scores)"
   ]
  },
  {
   "cell_type": "markdown",
   "id": "4ecd20a7",
   "metadata": {},
   "source": [
    "In the graph below, we can see the correlation of accuracy and number of neighbors.\n",
    "\n",
    "* When the number of k is low, it shows low variance and high bias which is the case of overfitting.\n",
    "\n",
    "* When the number of k is low, it shows high variance and low bias which is the case of underfitting."
   ]
  },
  {
   "cell_type": "markdown",
   "id": "e53879e3",
   "metadata": {},
   "source": [
    "As is clear in the line plot, with k of \"21\", we will get a higher accuracy, and a better and more simple model.Still, the accuracy is not reasonable, so I will build the model with scaling the columns with different units."
   ]
  },
  {
   "cell_type": "markdown",
   "id": "8b715b71",
   "metadata": {},
   "source": [
    "### Applying feature scaling on 2 of the columns"
   ]
  },
  {
   "cell_type": "code",
   "execution_count": 26,
   "id": "467df445",
   "metadata": {
    "scrolled": false
   },
   "outputs": [],
   "source": [
    "sc = StandardScaler()\n",
    "X = sc.fit_transform(X)"
   ]
  },
  {
   "cell_type": "code",
   "execution_count": 27,
   "id": "d5e1a557",
   "metadata": {},
   "outputs": [],
   "source": [
    "#Spliting the dataset to train,validation and test sets after applying feature scaling\n",
    "X_train,X_test,y_train,y_test = train_test_split(X,y,test_size = 0.2,random_state=42)\n",
    "X_test,X_valid,y_test,y_valid = train_test_split(X_test,y_test,test_size=0.5,random_state=42)"
   ]
  },
  {
   "cell_type": "code",
   "execution_count": 28,
   "id": "3744988d",
   "metadata": {},
   "outputs": [
    {
     "data": {
      "text/plain": [
       "0.8191031941031941"
      ]
     },
     "execution_count": 28,
     "metadata": {},
     "output_type": "execute_result"
    }
   ],
   "source": [
    "#Building the final model based on the best k neighbors amount and the good variance in the training set\n",
    "knn_final = KNeighborsClassifier(n_neighbors=21,metric = 'minkowski',p=2)\n",
    "knn_final.fit(X_train,y_train)\n",
    "knn_final.score(X_test,y_test)"
   ]
  },
  {
   "cell_type": "code",
   "execution_count": 29,
   "id": "5e9f2b3e",
   "metadata": {},
   "outputs": [
    {
     "data": {
      "text/plain": [
       "array([[2256,  213],\n",
       "       [ 376,  411]])"
      ]
     },
     "execution_count": 29,
     "metadata": {},
     "output_type": "execute_result"
    }
   ],
   "source": [
    "#defining the confusion matrix\n",
    "y_pred = knn_final.predict(X_test)\n",
    "matrix = confusion_matrix(y_test,y_pred)\n",
    "matrix"
   ]
  },
  {
   "cell_type": "code",
   "execution_count": 30,
   "id": "63a6065c",
   "metadata": {},
   "outputs": [
    {
     "data": {
      "text/plain": [
       "Text(42.0, 0.5, 'Truth')"
      ]
     },
     "execution_count": 30,
     "metadata": {},
     "output_type": "execute_result"
    },
    {
     "data": {
      "image/png": "[encoded data removed]",
      "text/plain": [
       "<Figure size 504x360 with 2 Axes>"
      ]
     },
     "metadata": {
      "needs_background": "light"
     },
     "output_type": "display_data"
    }
   ],
   "source": [
    "#plotting the confusion matrix\n",
    "%matplotlib inline\n",
    "plt.figure(figsize=(7,5))\n",
    "sn.heatmap(matrix,annot=True,fmt=\".1f\")\n",
    "plt.xlabel('Predicted')\n",
    "plt.ylabel('Truth')"
   ]
  },
  {
   "cell_type": "code",
   "execution_count": 31,
   "id": "003cbc26",
   "metadata": {},
   "outputs": [
    {
     "name": "stdout",
     "output_type": "stream",
     "text": [
      "              precision    recall  f1-score   support\n",
      "\n",
      "           0       0.86      0.91      0.88      2469\n",
      "           1       0.66      0.52      0.58       787\n",
      "\n",
      "    accuracy                           0.82      3256\n",
      "   macro avg       0.76      0.72      0.73      3256\n",
      "weighted avg       0.81      0.82      0.81      3256\n",
      "\n"
     ]
    }
   ],
   "source": [
    "#Printing the classification report\n",
    "print(classification_report(y_test,y_pred))"
   ]
  },
  {
   "cell_type": "markdown",
   "id": "06e0811a",
   "metadata": {},
   "source": [
    "As we can see, by tuning the most important hyperparameter (k) of our knn model and applying feature scaling on 2 of columns with high distance in the parameters, we could increase the accuracy to almost 82%. \n"
   ]
  },
  {
   "cell_type": "markdown",
   "id": "107234fe",
   "metadata": {},
   "source": [
    "# Implementing SVM "
   ]
  },
  {
   "cell_type": "code",
   "execution_count": 32,
   "id": "22d3ca09",
   "metadata": {},
   "outputs": [
    {
     "data": {
      "text/plain": [
       "SVC(random_state=42)"
      ]
     },
     "execution_count": 32,
     "metadata": {},
     "output_type": "execute_result"
    }
   ],
   "source": [
    "#Building the SVM model on the feature scaled train data set\n",
    "svm = SVC(random_state = 42)\n",
    "svm.fit(X_train,y_train)"
   ]
  },
  {
   "cell_type": "code",
   "execution_count": 33,
   "id": "95f78af0",
   "metadata": {},
   "outputs": [
    {
     "data": {
      "text/plain": [
       "0.8099478047282775"
      ]
     },
     "execution_count": 33,
     "metadata": {},
     "output_type": "execute_result"
    }
   ],
   "source": [
    "#testing the model on the validation set\n",
    "svm.score(X_valid,y_valid)"
   ]
  },
  {
   "cell_type": "code",
   "execution_count": 34,
   "id": "95da98f3",
   "metadata": {},
   "outputs": [
    {
     "data": {
      "text/plain": [
       "array([[2341,  132],\n",
       "       [ 487,  297]])"
      ]
     },
     "execution_count": 34,
     "metadata": {},
     "output_type": "execute_result"
    }
   ],
   "source": [
    "#defining the confusion matrix\n",
    "y_pred = svm.predict(X_valid)\n",
    "matrix = confusion_matrix(y_valid,y_pred)\n",
    "matrix"
   ]
  },
  {
   "cell_type": "code",
   "execution_count": 35,
   "id": "99b61c10",
   "metadata": {},
   "outputs": [
    {
     "data": {
      "text/plain": [
       "Text(42.0, 0.5, 'Truth')"
      ]
     },
     "execution_count": 35,
     "metadata": {},
     "output_type": "execute_result"
    },
    {
     "data": {
      "image/png": "[encoded data removed]",
      "text/plain": [
       "<Figure size 504x360 with 2 Axes>"
      ]
     },
     "metadata": {
      "needs_background": "light"
     },
     "output_type": "display_data"
    }
   ],
   "source": [
    "#plotting the confusion matrix\n",
    "%matplotlib inline\n",
    "plt.figure(figsize=(7,5))\n",
    "sn.heatmap(matrix,annot=True,fmt=\".1f\")\n",
    "plt.xlabel('Predicted')\n",
    "plt.ylabel('Truth')"
   ]
  },
  {
   "cell_type": "code",
   "execution_count": 36,
   "id": "39f0722c",
   "metadata": {},
   "outputs": [
    {
     "name": "stdout",
     "output_type": "stream",
     "text": [
      "              precision    recall  f1-score   support\n",
      "\n",
      "           0       0.83      0.95      0.88      2473\n",
      "           1       0.69      0.38      0.49       784\n",
      "\n",
      "    accuracy                           0.81      3257\n",
      "   macro avg       0.76      0.66      0.69      3257\n",
      "weighted avg       0.80      0.81      0.79      3257\n",
      "\n"
     ]
    }
   ],
   "source": [
    "#Printing the classification report\n",
    "print(classification_report(y_valid,y_pred))"
   ]
  },
  {
   "cell_type": "markdown",
   "id": "ccd4881b",
   "metadata": {},
   "source": [
    "### Tuning the hyperparameters using grid search cv"
   ]
  },
  {
   "cell_type": "markdown",
   "id": "c1bac606",
   "metadata": {},
   "source": [
    "In this validation technique, the goal is to find the best combination of hyperparameters.\n",
    "\n",
    "Unlike K-fold cross validation, in this method we can estimate the best set of parameters for our model at once.\n",
    "This can be done by using 'GridSearchCV' class of 'model_selection' module of scikit learn library."
   ]
  },
  {
   "cell_type": "code",
   "execution_count": 46,
   "id": "53a87be8",
   "metadata": {},
   "outputs": [
    {
     "name": "stdout",
     "output_type": "stream",
     "text": [
      "{'C': [1, 10, 100], 'gamma': ['auto'], 'kernel': ['rbf', 'linear']}\n"
     ]
    }
   ],
   "source": [
    "#Create the param grid\n",
    "param_grid = {'C': [1, 10, 100], 'gamma': ['auto'],'kernel': ['rbf', 'linear']}\n",
    "print(param_grid)"
   ]
  },
  {
   "cell_type": "code",
   "execution_count": 48,
   "id": "f12b2a73",
   "metadata": {
    "scrolled": true
   },
   "outputs": [],
   "source": [
    "#grid = GridSearchCV(SVC(),param_grid,cv=3)\n",
    "#grid.fit(X_train,y_train)"
   ]
  },
  {
   "cell_type": "code",
   "execution_count": 49,
   "id": "e32ba169",
   "metadata": {},
   "outputs": [],
   "source": [
    "#print(grid.best_params_)"
   ]
  },
  {
   "cell_type": "markdown",
   "id": "914f03c8",
   "metadata": {},
   "source": [
    "#### * Unfortunately even by trying to increase the number of cv or the hyperparameter values while implementing the validation, My system froze at some points, I commented the code lines to declare the intuition."
   ]
  },
  {
   "cell_type": "markdown",
   "id": "c9f994c0",
   "metadata": {},
   "source": [
    "### Tuning the 'C' hyperparameter using K-fold cross validation"
   ]
  },
  {
   "cell_type": "markdown",
   "id": "a6b0e38f",
   "metadata": {},
   "source": [
    "After the defeat in completely performing the grid search valodation technique, I performed K-fold cross validation technique to adjust the 'c' parameter of the SVM model I built to increase the accuracy and decrease the error respectively."
   ]
  },
  {
   "cell_type": "markdown",
   "id": "f412b49b",
   "metadata": {},
   "source": [
    "#### 'C' represents 'Regularization' meaning how much we want to avoid misclassifying each training example. For large values of C, the optimization will choose a smaller-margin hyperplane if that hyperplane does a better job of getting all the training points classified correctly. "
   ]
  },
  {
   "cell_type": "code",
   "execution_count": 50,
   "id": "6df9079b",
   "metadata": {},
   "outputs": [
    {
     "name": "stdout",
     "output_type": "stream",
     "text": [
      "0.8033630451157698\n"
     ]
    }
   ],
   "source": [
    "scores = cross_val_score(svm,X_train,y_train,cv = 3,scoring = 'accuracy')\n",
    "print(scores.mean())"
   ]
  },
  {
   "cell_type": "code",
   "execution_count": 51,
   "id": "b6a5fd3b",
   "metadata": {},
   "outputs": [],
   "source": [
    "#trying a list of 4 values of c\n",
    "c_scores = []\n",
    "for c in [0.1,1,10,100]:\n",
    "    svm = SVC()\n",
    "    scores = cross_val_score(svm,X_train,y_train,cv = 5,scoring = 'accuracy')\n",
    "    c_scores.append(scores.mean())"
   ]
  },
  {
   "cell_type": "code",
   "execution_count": 52,
   "id": "a4271ff8",
   "metadata": {},
   "outputs": [
    {
     "data": {
      "text/plain": [
       "[0.8042843535605178,\n",
       " 0.8042843535605178,\n",
       " 0.8042843535605178,\n",
       " 0.8042843535605178]"
      ]
     },
     "execution_count": 52,
     "metadata": {},
     "output_type": "execute_result"
    }
   ],
   "source": [
    "c_scores"
   ]
  },
  {
   "cell_type": "markdown",
   "id": "e80eeb4d",
   "metadata": {},
   "source": [
    "The c_scores result shows in this model and the dataset we have, [0.1,1,10,100] values of C gives the same  average accuracy score in each time of performing cross validation. \n",
    "\n",
    "In other words, the variation of C does not effect the model accuracy."
   ]
  },
  {
   "cell_type": "markdown",
   "id": "c20339b4",
   "metadata": {},
   "source": [
    "### Implementing SVM on non-scaled matrix of features X"
   ]
  },
  {
   "cell_type": "code",
   "execution_count": 55,
   "id": "47a3773c",
   "metadata": {},
   "outputs": [
    {
     "data": {
      "text/plain": [
       "0.7629356671272839"
      ]
     },
     "execution_count": 55,
     "metadata": {},
     "output_type": "execute_result"
    }
   ],
   "source": [
    "X = df.iloc[:,:-1].values\n",
    "y = df.iloc[:,-1].values\n",
    "\n",
    "#Encoding the target function and convert it to an array\n",
    "le = LabelEncoder()\n",
    "y = le.fit_transform(y)\n",
    "\n",
    "#splitting the dataset\n",
    "X_train,X_test,y_train,y_test = train_test_split(X,y,test_size = 0.2,random_state=42)\n",
    "\n",
    "#building svm model\n",
    "svm = SVC(random_state = 42)\n",
    "svm.fit(X_train,y_train)\n",
    "\n",
    "#accuracy\n",
    "svm.score(X_test,y_test)"
   ]
  },
  {
   "cell_type": "markdown",
   "id": "73715965",
   "metadata": {},
   "source": [
    "* This accuracy shows the accuracy deacreases if not applying feature scaling in SVM while some columns are very different with the majority scale-wise."
   ]
  },
  {
   "cell_type": "markdown",
   "id": "3701bd23",
   "metadata": {},
   "source": [
    "# Conclusion"
   ]
  },
  {
   "cell_type": "markdown",
   "id": "23bf461c",
   "metadata": {},
   "source": [
    "* In our case, with the same dataset and data scale , KNN performs more accurately.\n",
    "* feature scaling had a positive impact on model optimization the both algorithms, So we can conclude that in algorithms that the classification metric is measuring \"distance\", feature scaling plays a very important role in model optimization."
   ]
  },
  {
   "cell_type": "markdown",
   "id": "53ccdd4b",
   "metadata": {},
   "source": [
    "# References"
   ]
  },
  {
   "cell_type": "markdown",
   "id": "6d5c4f2e",
   "metadata": {},
   "source": [
    "* https://stats.stackexchange.com/questions/31066/what-is-the-influence-of-c-in-svms-with-linear-kernel#:~:text=The%20C%20parameter%20tells%20the,the%20training%20points%20classified%20correctly.\n",
    "\n",
    "* https://www.youtube.com/watch?v=V0ZQbN9lRBw\n",
    "\n",
    "* https://scikit-learn.org/stable/modules/generated/sklearn.svm.SVC.html\n",
    "\n",
    "* https://scikit-learn.org/stable/modules/generated/sklearn.neighbors.KNeighborsClassifier.html\n",
    "\n",
    "* https://www.javatpoint.com/confusion-matrix-in-machine-learning\n",
    "\n",
    "* https://thecleverprogrammer.com/2021/07/07/classification-report-in-machine-learning/#:~:text=A%20classification%20report%20is%20a,of%20your%20trained%20classification%20model.\n",
    "\n",
    "* https://www.vebuso.com/2020/03/svm-hyperparameter-tuning-using-gridsearchcv/"
   ]
  }
 ],
 "metadata": {
  "kernelspec": {
   "display_name": "Python 3 (ipykernel)",
   "language": "python",
   "name": "python3"
  },
  "language_info": {
   "codemirror_mode": {
    "name": "ipython",
    "version": 3
   },
   "file_extension": ".py",
   "mimetype": "text/x-python",
   "name": "python",
   "nbconvert_exporter": "python",
   "pygments_lexer": "ipython3",
   "version": "3.9.7"
  }
 },
 "nbformat": 4,
 "nbformat_minor": 5
}
